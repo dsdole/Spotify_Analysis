{
 "cells": [
  {
   "cell_type": "code",
   "execution_count": 1,
   "metadata": {
    "collapsed": true,
    "pycharm": {
     "name": "#%%\n"
    }
   },
   "outputs": [],
   "source": [
    "import pandas as pd\n",
    "import numpy as np\n",
    "import requests"
   ]
  },
  {
   "cell_type": "code",
   "execution_count": 2,
   "metadata": {
    "pycharm": {
     "name": "#%%\n"
    }
   },
   "outputs": [],
   "source": [
    "# TOKEN GENERATION\n",
    "CLIENT_ID = \"c87105581fca41ec838b91d6fffc2096\"\n",
    "CLIENT_SECRET = \"41a9e1f80f334bfbb3197e89a411485a\"\n",
    "AUTH_URL = \"https://accounts.spotify.com/api/token\"\n",
    "\n",
    "# POST\n",
    "auth_response = requests.post(AUTH_URL, {\n",
    "    \"grant_type\" : \"client_credentials\",\n",
    "    \"client_id\" : CLIENT_ID,\n",
    "    \"client_secret\" : CLIENT_SECRET,\n",
    "})\n",
    "\n",
    "#CONVERT RESPONSE TO JSON\n",
    "auth_response_data = auth_response.json()\n",
    "\n",
    "#SAVE TOKEN\n",
    "token = auth_response_data[\"access_token\"]"
   ]
  },
  {
   "cell_type": "code",
   "execution_count": 10,
   "metadata": {
    "pycharm": {
     "name": "#%%\n"
    }
   },
   "outputs": [],
   "source": [
    "#LOOP FOR PULLING PLAYLIST METADATA\n",
    "offset = 0\n",
    "limit = 100\n",
    "MAX = 870\n",
    "is_df_ready = False\n",
    "while True:\n",
    "\n",
    "    if offset > MAX:\n",
    "        offset = MAX\n",
    "    response = requests.get(\"https://api.spotify.com/v1/playlists/6qBlv0CvTkdwU1iBuMImzs/tracks?limit={}&offset={}\".format(limit,offset), headers = {\"Accept\":\"application/json\", \"Content-Type\":\"application/json\",\"Authorization\":\"Bearer {}\".format(token)})\n",
    "    if is_df_ready:\n",
    "        this_response = pd.DataFrame(response.json()[\"items\"])\n",
    "        all_songs = pd.concat([all_songs,this_response])\n",
    "    else:\n",
    "        all_songs=pd.DataFrame(response.json()[\"items\"])\n",
    "        is_df_ready = True\n",
    "    offset = offset + limit\n",
    "    if offset >= MAX:\n",
    "        break"
   ]
  },
  {
   "cell_type": "code",
   "execution_count": 21,
   "metadata": {
    "pycharm": {
     "name": "#%%\n"
    }
   },
   "outputs": [],
   "source": [
    "#EXTRACTING IDS\n",
    "liked =all_songs[\"track\"]"
   ]
  },
  {
   "cell_type": "code",
   "execution_count": 14,
   "metadata": {
    "pycharm": {
     "name": "#%%\n"
    }
   },
   "outputs": [],
   "source": [
    "def extract_id(row):\n",
    "    return row[\"uri\"].split(\":\")[2]"
   ]
  },
  {
   "cell_type": "code",
   "execution_count": 20,
   "metadata": {
    "pycharm": {
     "name": "#%%\n"
    }
   },
   "outputs": [],
   "source": [
    "track_df = all_songs[\"track\"].apply(extract_id)\n",
    "track_df.to_csv(\"LIKED_IDS.csv\")"
   ]
  }
 ],
 "metadata": {
  "kernelspec": {
   "display_name": "Python 3",
   "language": "python",
   "name": "python3"
  },
  "language_info": {
   "codemirror_mode": {
    "name": "ipython",
    "version": 3
   },
   "file_extension": ".py",
   "mimetype": "text/x-python",
   "name": "python",
   "nbconvert_exporter": "python",
   "pygments_lexer": "ipython3",
   "version": "3.8.8"
  }
 },
 "nbformat": 4,
 "nbformat_minor": 1
}
