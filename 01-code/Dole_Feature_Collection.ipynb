{
 "cells": [
  {
   "cell_type": "code",
   "execution_count": 1,
   "metadata": {
    "collapsed": true,
    "pycharm": {
     "name": "#%%\n"
    }
   },
   "outputs": [],
   "source": [
    "import pandas as pd\n",
    "import numpy as np\n",
    "import requests\n",
    "import json\n",
    "import time"
   ]
  },
  {
   "cell_type": "code",
   "execution_count": 2,
   "metadata": {
    "pycharm": {
     "name": "#%%\n"
    }
   },
   "outputs": [],
   "source": [
    "# TOKEN GENERATION\n",
    "CLIENT_ID = \"c87105581fca41ec838b91d6fffc2096\"\n",
    "CLIENT_SECRET = \"41a9e1f80f334bfbb3197e89a411485a\"\n",
    "AUTH_URL = \"https://accounts.spotify.com/api/token\"\n",
    "\n",
    "# POST\n",
    "auth_response = requests.post(AUTH_URL, {\n",
    "    \"grant_type\" : \"client_credentials\",\n",
    "    \"client_id\" : CLIENT_ID,\n",
    "    \"client_secret\" : CLIENT_SECRET,\n",
    "})\n",
    "\n",
    "#CONVERT RESPONSE TO JSON\n",
    "auth_response_data = auth_response.json()\n",
    "\n",
    "#SAVE TOKEN\n",
    "token = auth_response_data[\"access_token\"]"
   ]
  },
  {
   "cell_type": "code",
   "execution_count": 3,
   "metadata": {
    "pycharm": {
     "name": "#%%\n"
    }
   },
   "outputs": [],
   "source": [
    "headers = {\"Authorization\": \"Bearer {}\".format(token)}"
   ]
  },
  {
   "cell_type": "code",
   "execution_count": 4,
   "metadata": {
    "pycharm": {
     "name": "#%%\n"
    }
   },
   "outputs": [],
   "source": [
    "BASE_URL = \"https://api.spotify.com/v1/\""
   ]
  },
  {
   "cell_type": "code",
   "execution_count": 90,
   "metadata": {
    "pycharm": {
     "name": "#%%\n"
    }
   },
   "outputs": [],
   "source": [
    "#BLANK DICTIONARY TO STORE AUDIO FEATURES\n",
    "feature_dict = {}\n",
    "\n",
    "#READ AND CONVERT LIKED IDS INTO ITERABLE LIST\n",
    "id_df = pd.read_csv(\"LIKED_IDS.csv\")\n",
    "track_uris = id_df[\"ids\"].to_list()"
   ]
  },
  {
   "cell_type": "code",
   "execution_count": 92,
   "metadata": {
    "pycharm": {
     "name": "#%%\n"
    }
   },
   "outputs": [],
   "source": [
    "#LIKED SONGS\n",
    "#LOOP THROUGH URIS AND PULL METADATA FROM API TO DICTIONARY\n",
    "for uri in track_uris:\n",
    "    r = requests.get(BASE_URL + 'audio-features/'+ uri, headers=headers)\n",
    "    r = r.json()\n",
    "    t = pd.DataFrame.from_dict(r, orient = \"index\")\n",
    "    t.to_json(\"C:/Users/dhruv/OneDrive/Documents/Desktop/Project/LIKED_JSONS/{}.json\".format(uri))\n",
    "    time.sleep(1)"
   ]
  },
  {
   "cell_type": "code",
   "execution_count": 94,
   "metadata": {
    "pycharm": {
     "name": "#%%\n"
    }
   },
   "outputs": [],
   "source": [
    "#READ LIKED JSONS AND COMPILE INTO SINGLE CSV\n",
    "audio_features = pd.DataFrame([],)\n",
    "for uri in track_uris:\n",
    "    with open(\"C:/Users/dhruv/OneDrive/Documents/Desktop/Project/LIKED_JSONS/{}.json\".format(uri)) as json_file:\n",
    "        data = json.load(json_file)\n",
    "        df = pd.DataFrame.from_dict(data)\n",
    "        fdf = df.transpose()\n",
    "        audio_features = pd.concat([audio_features, fdf])\n",
    "audio_features.to_csv(\"LIKED_FEATURES.csv\")"
   ]
  },
  {
   "cell_type": "code",
   "execution_count": 5,
   "metadata": {
    "pycharm": {
     "name": "#%%\n"
    }
   },
   "outputs": [],
   "source": [
    "#BLANK DICTIONARY TO STORE AUDIO FEATURES\n",
    "feature_dict = {}\n",
    "\n",
    "#READ AND CONVERT LIKED IDS INTO ITERABLE LIST\n",
    "id_df = pd.read_csv(\"DISLIKED_IDS.csv\")\n",
    "track_uris = id_df[\"ids\"].to_list()"
   ]
  },
  {
   "cell_type": "code",
   "execution_count": 7,
   "metadata": {
    "pycharm": {
     "name": "#%%\n"
    }
   },
   "outputs": [],
   "source": [
    "#DISLIKED SONGS\n",
    "#LOOP THROUGH URIS AND PULL METADATA FROM API TO DICTIONARY\n",
    "for uri in track_uris:\n",
    "    r = requests.get(BASE_URL + 'audio-features/'+ uri, headers=headers)\n",
    "    r = r.json()\n",
    "    t = pd.DataFrame.from_dict(r, orient = \"index\")\n",
    "    t.to_json(\"C:/Users/dhruv/OneDrive/Desktop/Project/DISLIKED_JSONS/{}.json\".format(uri))\n",
    "    time.sleep(1)"
   ]
  },
  {
   "cell_type": "code",
   "execution_count": 8,
   "metadata": {
    "pycharm": {
     "name": "#%%\n"
    }
   },
   "outputs": [],
   "source": [
    "#READ DISLIKED JSONS AND COMPILE INTO SINGLE CSV\n",
    "audio_features = pd.DataFrame([],)\n",
    "for uri in track_uris:\n",
    "    with open(\"C:/Users/dhruv/OneDrive/Desktop/Project/DISLIKED_JSONS/{}.json\".format(uri)) as json_file:\n",
    "        data = json.load(json_file)\n",
    "        df = pd.DataFrame.from_dict(data)\n",
    "        fdf = df.transpose()\n",
    "        audio_features = pd.concat([audio_features, fdf])\n",
    "audio_features.to_csv(\"DISLIKED_FEATURES.csv\")"
   ]
  }
 ],
 "metadata": {
  "kernelspec": {
   "display_name": "Python 3",
   "language": "python",
   "name": "python3"
  },
  "language_info": {
   "codemirror_mode": {
    "name": "ipython",
    "version": 3
   },
   "file_extension": ".py",
   "mimetype": "text/x-python",
   "name": "python",
   "nbconvert_exporter": "python",
   "pygments_lexer": "ipython3",
   "version": "3.8.8"
  }
 },
 "nbformat": 4,
 "nbformat_minor": 1
}
